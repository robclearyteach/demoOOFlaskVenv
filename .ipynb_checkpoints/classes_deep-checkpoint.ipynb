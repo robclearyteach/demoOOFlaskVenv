{
 "cells": [
  {
   "cell_type": "code",
   "execution_count": 1,
   "id": "31cc0729",
   "metadata": {},
   "outputs": [
    {
     "data": {
      "text/plain": [
       "2462171889968"
      ]
     },
     "execution_count": 1,
     "metadata": {},
     "output_type": "execute_result"
    }
   ],
   "source": [
    "msg = \"test\"\n",
    "id(msg)"
   ]
  },
  {
   "cell_type": "code",
   "execution_count": 6,
   "id": "b608e0e2",
   "metadata": {},
   "outputs": [
    {
     "name": "stdout",
     "output_type": "stream",
     "text": [
      "init-->0x23d48c58fd0\n",
      "<__main__.Bid object at 0x0000023D48C58FD0>\n"
     ]
    }
   ],
   "source": [
    "class Bid:\n",
    "    #Bid()\n",
    "    # __init__( self = obj@23d48c58fd0 )\n",
    "    def __init__(self):\n",
    "        print( f\"init-->{ hex( id( self ) )}\" )\n",
    " \n",
    "print( Bid() )"
   ]
  },
  {
   "cell_type": "code",
   "execution_count": 8,
   "id": "1fc3166c",
   "metadata": {},
   "outputs": [
    {
     "name": "stdout",
     "output_type": "stream",
     "text": [
      "init-->0x23d4a6cbb90\n",
      "in do_something\n"
     ]
    }
   ],
   "source": [
    "class Bid():\n",
    "    def __init__(self):\n",
    "        print( f\"init-->{ hex( id( self ) )}\" )\n",
    "        \n",
    "        \n",
    "    def do_something(self):\n",
    "        print( \"in do_something\" )\n",
    "        \n",
    "bid = Bid()\n",
    "bid.do_something()"
   ]
  },
  {
   "cell_type": "code",
   "execution_count": 13,
   "id": "2a5865c2",
   "metadata": {},
   "outputs": [
    {
     "data": {
      "text/plain": [
       "{'description': '', 'test': 'value'}"
      ]
     },
     "execution_count": 13,
     "metadata": {},
     "output_type": "execute_result"
    }
   ],
   "source": [
    "class Task:\n",
    "    def __init__(self):\n",
    "        self.description = \"\"\n",
    "        \n",
    "\n",
    "t1 = Task()\n",
    "t2 = Task()\n",
    "\n",
    "t1.__dict__ , t2.__dict__"
   ]
  },
  {
   "cell_type": "code",
   "execution_count": null,
   "id": "e8e5bbcc",
   "metadata": {},
   "outputs": [],
   "source": []
  },
  {
   "cell_type": "code",
   "execution_count": null,
   "id": "bcadc1af",
   "metadata": {},
   "outputs": [],
   "source": []
  },
  {
   "cell_type": "code",
   "execution_count": 17,
   "id": "bbe484ae",
   "metadata": {},
   "outputs": [
    {
     "name": "stdout",
     "output_type": "stream",
     "text": [
      "init runs\n",
      "init runs\n",
      "t1 dict:  {'number': 4}\n",
      "t2 dict:  {'number': 4}\n"
     ]
    }
   ],
   "source": [
    "class Task:\n",
    "    description = \"\"\n",
    "\n",
    "    def __init__(self):\n",
    "        print(\"init runs\")\n",
    "        self.number = 4     #each object gets this\n",
    "        \n",
    "\n",
    "t1 = Task()\n",
    "t2 = Task()\n",
    "\n",
    "print(\"t1 dict: \", t1.__dict__)\n",
    "print(\"t2 dict: \", t2.__dict__)"
   ]
  },
  {
   "cell_type": "code",
   "execution_count": 25,
   "id": "e4c22a22",
   "metadata": {},
   "outputs": [
    {
     "name": "stdout",
     "output_type": "stream",
     "text": [
      "xxxx\n"
     ]
    }
   ],
   "source": [
    "class Task:\n",
    "    description = \"xxxx\"     #class variable: only one in the cls object\n",
    "\n",
    "    def __init__(self):\n",
    "        print(\"init runs\")\n",
    "        self.number = 4        #instance variable: each object\n",
    "\n",
    "# print( Task.__dict__ )\n",
    "t1 = Task()\n",
    "t2 = Task()\n",
    "\n",
    "# print(t1.__dict__ )\n",
    "# print(t1.__dict__ )\n",
    "\n",
    "#use and instance variable to access the _single_ cls (:Task) variable\n",
    "print( Task.__dict__[\"description\"] )"
   ]
  },
  {
   "cell_type": "code",
   "execution_count": null,
   "id": "cd3c5525",
   "metadata": {},
   "outputs": [],
   "source": []
  },
  {
   "cell_type": "code",
   "execution_count": 31,
   "id": "e57ca588",
   "metadata": {},
   "outputs": [
    {
     "name": "stdout",
     "output_type": "stream",
     "text": [
      "{}\n",
      "after:  {'description': 'wash the dishes'}\n",
      "t2 dict:  {}\n"
     ]
    }
   ],
   "source": [
    "class Task:\n",
    "    pass\n",
    "t1 = Task()\n",
    "t2 = Task()\n",
    "# help(t1)\n",
    "\n",
    "print( t1.__dict__ )\n",
    "t1.description = \"wash the dishes\"\n",
    "print(\"after: \", t1.__dict__)\n",
    "print( \"t2 dict: \", t2.__dict__)"
   ]
  },
  {
   "cell_type": "code",
   "execution_count": 45,
   "id": "d470932d",
   "metadata": {},
   "outputs": [
    {
     "name": "stdout",
     "output_type": "stream",
     "text": [
      "**-**: 1:rob:get to @staticmethod and @classmethod:important\n",
      "**-**: 2:tim:don't forget python venv:important\n"
     ]
    }
   ],
   "source": [
    "class Task:\n",
    "    print_icon = \"**-**: \"     \n",
    "\n",
    "    def __init__(self, id_, owner, desc ):\n",
    "        self.id    = id_\n",
    "        self.owner = owner\n",
    "        self.desc  = desc\n",
    "\n",
    "    def add_task_field(self, field, field_value): \n",
    "        self.field = field_value   #can add an instance attribute inside a method also\n",
    "        \n",
    "    def __repr__(self):\n",
    "        return f\"{Task.print_icon}{self.id}:{self.owner}:{self.desc}:{self.field}\"\n",
    "        \n",
    "t1 = Task(1, \"rob\", \"get to @staticmethod and @classmethod\")\n",
    "t2 = Task(2, \"tim\", \"don't forget python venv\")\n",
    "\n",
    "t1.add_task_field(\"status\", \"important\")\n",
    "t2.add_task_field(\"status\", \"important\")\n",
    "\n",
    "print(t1)\n",
    "print(t2)\n"
   ]
  },
  {
   "cell_type": "code",
   "execution_count": null,
   "id": "3435b9b3",
   "metadata": {},
   "outputs": [],
   "source": []
  },
  {
   "cell_type": "code",
   "execution_count": null,
   "id": "51dfe1e7",
   "metadata": {},
   "outputs": [],
   "source": []
  },
  {
   "cell_type": "code",
   "execution_count": null,
   "id": "e4feb119",
   "metadata": {},
   "outputs": [],
   "source": []
  },
  {
   "cell_type": "code",
   "execution_count": null,
   "id": "d7885471",
   "metadata": {},
   "outputs": [],
   "source": []
  },
  {
   "cell_type": "code",
   "execution_count": null,
   "id": "6eb91478",
   "metadata": {},
   "outputs": [],
   "source": []
  },
  {
   "cell_type": "code",
   "execution_count": null,
   "id": "71431485",
   "metadata": {},
   "outputs": [],
   "source": []
  },
  {
   "cell_type": "code",
   "execution_count": null,
   "id": "a8260015",
   "metadata": {},
   "outputs": [],
   "source": []
  },
  {
   "cell_type": "code",
   "execution_count": null,
   "id": "0618f489",
   "metadata": {},
   "outputs": [],
   "source": []
  },
  {
   "cell_type": "code",
   "execution_count": null,
   "id": "16dc7010",
   "metadata": {},
   "outputs": [],
   "source": []
  },
  {
   "cell_type": "code",
   "execution_count": null,
   "id": "ed12ae85",
   "metadata": {},
   "outputs": [],
   "source": []
  },
  {
   "cell_type": "code",
   "execution_count": null,
   "id": "d3782c79",
   "metadata": {},
   "outputs": [],
   "source": []
  },
  {
   "cell_type": "code",
   "execution_count": null,
   "id": "549225b5",
   "metadata": {},
   "outputs": [],
   "source": []
  },
  {
   "cell_type": "code",
   "execution_count": null,
   "id": "6ea5982d",
   "metadata": {},
   "outputs": [],
   "source": []
  },
  {
   "cell_type": "code",
   "execution_count": null,
   "id": "226087da",
   "metadata": {},
   "outputs": [],
   "source": []
  }
 ],
 "metadata": {
  "kernelspec": {
   "display_name": "Python 3 (ipykernel)",
   "language": "python",
   "name": "python3"
  },
  "language_info": {
   "codemirror_mode": {
    "name": "ipython",
    "version": 3
   },
   "file_extension": ".py",
   "mimetype": "text/x-python",
   "name": "python",
   "nbconvert_exporter": "python",
   "pygments_lexer": "ipython3",
   "version": "3.11.4"
  }
 },
 "nbformat": 4,
 "nbformat_minor": 5
}
