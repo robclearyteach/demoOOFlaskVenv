{
 "cells": [
  {
   "cell_type": "code",
   "execution_count": 1,
   "id": "ab126689",
   "metadata": {},
   "outputs": [
    {
     "data": {
      "text/plain": [
       "2462171889968"
      ]
     },
     "execution_count": 1,
     "metadata": {},
     "output_type": "execute_result"
    }
   ],
   "source": [
    "msg = \"test\"\n",
    "id(msg)"
   ]
  },
  {
   "cell_type": "code",
   "execution_count": 6,
   "id": "72ac918d",
   "metadata": {},
   "outputs": [
    {
     "name": "stdout",
     "output_type": "stream",
     "text": [
      "init-->0x23d48c58fd0\n",
      "<__main__.Bid object at 0x0000023D48C58FD0>\n"
     ]
    }
   ],
   "source": [
    "class Bid:\n",
    "    #Bid()\n",
    "    # __init__( self = obj@23d48c58fd0 )\n",
    "    def __init__(self):\n",
    "        print( f\"init-->{ hex( id( self ) )}\" )\n",
    " \n",
    "print( Bid() )"
   ]
  },
  {
   "cell_type": "code",
   "execution_count": 8,
   "id": "fe1286d9",
   "metadata": {},
   "outputs": [
    {
     "name": "stdout",
     "output_type": "stream",
     "text": [
      "init-->0x23d4a6cbb90\n",
      "in do_something\n"
     ]
    }
   ],
   "source": [
    "class Bid():\n",
    "    def __init__(self):\n",
    "        print( f\"init-->{ hex( id( self ) )}\" )\n",
    "        \n",
    "        \n",
    "    def do_something(self):\n",
    "        print( \"in do_something\" )\n",
    "        \n",
    "bid = Bid()\n",
    "bid.do_something()"
   ]
  },
  {
   "cell_type": "code",
   "execution_count": 13,
   "id": "97d4506d",
   "metadata": {},
   "outputs": [
    {
     "data": {
      "text/plain": [
       "{'description': '', 'test': 'value'}"
      ]
     },
     "execution_count": 13,
     "metadata": {},
     "output_type": "execute_result"
    }
   ],
   "source": [
    "class Task:\n",
    "    def __init__(self):\n",
    "        self.description = \"\"\n",
    "        \n",
    "\n",
    "t1 = Task()\n",
    "t2 = Task()\n",
    "\n",
    "t1.__dict__ , t2.__dict__"
   ]
  },
  {
   "cell_type": "code",
   "execution_count": null,
   "id": "9038fbab",
   "metadata": {},
   "outputs": [],
   "source": []
  },
  {
   "cell_type": "code",
   "execution_count": null,
   "id": "d0b4a488",
   "metadata": {},
   "outputs": [],
   "source": []
  },
  {
   "cell_type": "code",
   "execution_count": 17,
   "id": "949df6d0",
   "metadata": {},
   "outputs": [
    {
     "name": "stdout",
     "output_type": "stream",
     "text": [
      "init runs\n",
      "init runs\n",
      "t1 dict:  {'number': 4}\n",
      "t2 dict:  {'number': 4}\n"
     ]
    }
   ],
   "source": [
    "class Task:\n",
    "    description = \"\"\n",
    "\n",
    "    def __init__(self):\n",
    "        print(\"init runs\")\n",
    "        self.number = 4     #each object gets this\n",
    "        \n",
    "\n",
    "t1 = Task()\n",
    "t2 = Task()\n",
    "\n",
    "print(\"t1 dict: \", t1.__dict__)\n",
    "print(\"t2 dict: \", t2.__dict__)"
   ]
  },
  {
   "cell_type": "code",
   "execution_count": 25,
   "id": "f68a2f46",
   "metadata": {},
   "outputs": [
    {
     "name": "stdout",
     "output_type": "stream",
     "text": [
      "xxxx\n"
     ]
    }
   ],
   "source": [
    "class Task:\n",
    "    description = \"xxxx\"     #class variable: only one in the cls object\n",
    "\n",
    "    def __init__(self):\n",
    "        print(\"init runs\")\n",
    "        self.number = 4        #instance variable: each object\n",
    "\n",
    "# print( Task.__dict__ )\n",
    "t1 = Task()\n",
    "t2 = Task()\n",
    "\n",
    "# print(t1.__dict__ )\n",
    "# print(t1.__dict__ )\n",
    "\n",
    "#use and instance variable to access the _single_ cls (:Task) variable\n",
    "print( Task.__dict__[\"description\"] )"
   ]
  },
  {
   "cell_type": "code",
   "execution_count": null,
   "id": "decd2bab",
   "metadata": {},
   "outputs": [],
   "source": []
  },
  {
   "cell_type": "code",
   "execution_count": 31,
   "id": "b24322ba",
   "metadata": {},
   "outputs": [
    {
     "name": "stdout",
     "output_type": "stream",
     "text": [
      "{}\n",
      "after:  {'description': 'wash the dishes'}\n",
      "t2 dict:  {}\n"
     ]
    }
   ],
   "source": [
    "class Task:\n",
    "    pass\n",
    "t1 = Task()\n",
    "t2 = Task()\n",
    "# help(t1)\n",
    "\n",
    "print( t1.__dict__ )\n",
    "t1.description = \"wash the dishes\"\n",
    "print(\"after: \", t1.__dict__)\n",
    "print( \"t2 dict: \", t2.__dict__)"
   ]
  },
  {
   "cell_type": "code",
   "execution_count": 45,
   "id": "a689a8fa",
   "metadata": {},
   "outputs": [
    {
     "name": "stdout",
     "output_type": "stream",
     "text": [
      "**-**: 1:rob:get to @staticmethod and @classmethod:important\n",
      "**-**: 2:tim:don't forget python venv:important\n"
     ]
    }
   ],
   "source": [
    "class Task:\n",
    "    print_icon = \"**-**: \"     \n",
    "\n",
    "    def __init__(self, id_, owner, desc ):\n",
    "        self.id    = id_\n",
    "        self.owner = owner\n",
    "        self.desc  = desc\n",
    "\n",
    "    def add_task_field(self, field, field_value): \n",
    "        self.field = field_value   #can add an instance attribute inside a method also\n",
    "        \n",
    "    def __repr__(self):\n",
    "        return f\"{Task.print_icon}{self.id}:{self.owner}:{self.desc}:{self.field}\"\n",
    "        \n",
    "t1 = Task(1, \"rob\", \"get to @staticmethod and @classmethod\")\n",
    "t2 = Task(2, \"tim\", \"don't forget python venv\")\n",
    "\n",
    "t1.add_task_field(\"status\", \"important\")\n",
    "t2.add_task_field(\"status\", \"important\")\n",
    "\n",
    "print(t1)\n",
    "print(t2)\n"
   ]
  },
  {
   "cell_type": "code",
   "execution_count": 48,
   "id": "de9c138e",
   "metadata": {},
   "outputs": [
    {
     "name": "stdout",
     "output_type": "stream",
     "text": [
      "**-**: 1:rob:Don't forget venv\n",
      "xx-xx: 2:tim:don't forget python venv:important\n"
     ]
    }
   ],
   "source": [
    "class Task:\n",
    "    print_icon = \"**-**: \"   #class attribute    \n",
    "\n",
    "    def __init__(self, id_, owner, desc ):\n",
    "        self.id    = id_     #instance attribute\n",
    "        self.owner = owner\n",
    "        self.desc  = desc\n",
    "       \n",
    "    @classmethod        #class method based on the cls\n",
    "    def change_print_icon(cls, new_icon=\"xx-xx: \" ):\n",
    "        #inside 'cls' will be 'Task' from 'Task.change_print_icon...'\n",
    "        cls.print_icon = new_icon\n",
    "        \n",
    "    def __repr__(self):  #instance method: self\n",
    "        return f\"{Task.print_icon}{self.id}:{self.owner}:{self.desc}\"\n",
    "            \n",
    "t1 = Task(1, \"rob\", \"Don't forget venv\")\n",
    "print(t1)\n",
    "Task.change_print_icon()\n",
    "print(t2)"
   ]
  },
  {
   "cell_type": "code",
   "execution_count": 51,
   "id": "3303088b",
   "metadata": {},
   "outputs": [
    {
     "name": "stdout",
     "output_type": "stream",
     "text": [
      "[2, 4]\n"
     ]
    }
   ],
   "source": [
    "class Task:\n",
    "    print_icon = \"**-**: \"   #class attribute    \n",
    "\n",
    "    def __init__(self, id_, owner, desc ):\n",
    "        self.id    = id_     #instance attribute\n",
    "        self.owner = owner\n",
    "        self.desc  = desc\n",
    "        \n",
    "    @staticmethod\n",
    "    def filter_evens_in_list( a_list ): #nothing to do with a Task\n",
    "        def even( n ):\n",
    "            return n%2==0\n",
    "        return filter(even, a_list)\n",
    "\n",
    "filtered_evens = Task.filter_evens_in_list( [1,2,3,4,5] ) #want to be able to do this\n",
    "print( [n for n in filtered_evens] )"
   ]
  },
  {
   "cell_type": "code",
   "execution_count": 54,
   "id": "6828df5d",
   "metadata": {},
   "outputs": [
    {
     "name": "stdout",
     "output_type": "stream",
     "text": [
      "-122.4194\n"
     ]
    }
   ],
   "source": [
    "coord = (37.7749, -122.4194)\n",
    "print( coord[1]) "
   ]
  },
  {
   "cell_type": "code",
   "execution_count": 60,
   "id": "bb636c79",
   "metadata": {},
   "outputs": [
    {
     "name": "stdout",
     "output_type": "stream",
     "text": [
      "(37.7749, -122.4194)\n",
      "(34.0522, -118.2437)\n"
     ]
    }
   ],
   "source": [
    "#23/09/2023 - chat.openai.com generated google co-ords with this:\n",
    "# https://chat.openai.com/share/9c6071ac-ca5f-47aa-ab2f-d2592f5dad52\n",
    "google_coords = [\n",
    "    (37.7749, -122.4194),  # San Francisco, CA\n",
    "    (40.7128,  74.0060),   # New York City, NY\n",
    "    (34.0522, -118.2437),  # Los Angeles, CA\n",
    "]\n",
    "\n",
    "def is_negative_longitude( co_ord ):\n",
    "    if co_ord[1] < 0 :\n",
    "        return True\n",
    "    else:\n",
    "        return False\n",
    "\n",
    "filtered = filter(is_negative_longitude, google_coords)\n",
    "for coord in filtered:\n",
    "    print(coord)\n"
   ]
  },
  {
   "cell_type": "code",
   "execution_count": 61,
   "id": "94614da8",
   "metadata": {},
   "outputs": [
    {
     "name": "stdout",
     "output_type": "stream",
     "text": [
      "(37.7749, -122.4194)\n",
      "(34.0522, -118.2437)\n"
     ]
    }
   ],
   "source": [
    "#23/09/2023 - chat.openai.com generated google co-ords with this:\n",
    "# https://chat.openai.com/share/9c6071ac-ca5f-47aa-ab2f-d2592f5dad52\n",
    "google_coords = [\n",
    "    (37.7749, -122.4194),  # San Francisco, CA\n",
    "    (40.7128,  74.0060),   # New York City, NY\n",
    "    (34.0522, -118.2437),  # Los Angeles, CA\n",
    "]\n",
    "\n",
    "def is_negative_longitude( co_ord ):\n",
    "    return co_ord[1] < 0\n",
    "\n",
    "filtered = filter(is_negative_longitude, google_coords)\n",
    "for coord in filtered:\n",
    "    print(coord)"
   ]
  },
  {
   "cell_type": "code",
   "execution_count": 67,
   "id": "8c366002",
   "metadata": {},
   "outputs": [
    {
     "name": "stdout",
     "output_type": "stream",
     "text": [
      "[(37.7749, -122.4194), (34.0522, -118.2437)]\n"
     ]
    }
   ],
   "source": [
    "def filter_negatives( google_coords):\n",
    "    return filter(is_negative_longitude, google_coords)\n",
    "\n",
    "def is_negative_longitude( co_ord ):\n",
    "    return co_ord[1] < 0\n",
    "\n",
    "def print_filtered( filtered_as_generator ):\n",
    "    print( [coord for coord in filtered_as_generator] )\n",
    "    \n",
    "google_coords = [\n",
    "    (37.7749, -122.4194),  # San Francisco, CA\n",
    "    (40.7128,  74.0060),   # New York City, NY\n",
    "    (34.0522, -118.2437),  # Los Angeles, CA\n",
    "]\n",
    "# filtered_as_generator = filter_negatives( google_coords)\n",
    "print_filtered( filter_negatives( google_coords) )"
   ]
  },
  {
   "cell_type": "code",
   "execution_count": null,
   "id": "574ed7e1",
   "metadata": {},
   "outputs": [],
   "source": []
  },
  {
   "cell_type": "code",
   "execution_count": 65,
   "id": "962e5426",
   "metadata": {},
   "outputs": [
    {
     "name": "stdout",
     "output_type": "stream",
     "text": [
      "[(37.7749, -122.4194), (34.0522, -118.2437)]\n"
     ]
    }
   ],
   "source": [
    "def is_negative_longitude( co_ord ):\n",
    "    return co_ord[1] < 0\n",
    "\n",
    "def print_filtered( filtered_as_generator ):\n",
    "    print( [coord for coord in filtered_as_generator] )\n",
    "    \n",
    "google_coords = [\n",
    "    (37.7749, -122.4194),  # San Francisco, CA\n",
    "    (40.7128,  74.0060),   # New York City, NY\n",
    "    (34.0522, -118.2437),  # Los Angeles, CA\n",
    "]\n",
    "\n",
    "filtered = filter(is_negative_longitude, google_coords)\n",
    "print_filtered( filtered )"
   ]
  },
  {
   "cell_type": "code",
   "execution_count": 77,
   "id": "0513cadc",
   "metadata": {},
   "outputs": [
    {
     "name": "stdout",
     "output_type": "stream",
     "text": [
      "number from url: 2\n",
      "html=city_creation.html, data={'id': 2, 'name': 'Los Angeles', 'latitude': 34.0522, 'longitude': -118.2437}\n"
     ]
    }
   ],
   "source": [
    "#list of dict approach\n",
    "city_data = [\n",
    "     {\"id\":1, \"name\": \"New York\", \"latitude\": 40.7128, \"longitude\": -74.0060}\n",
    "    ,{\"id\":2, \"name\": \"Los Angeles\",\"latitude\": 34.0522,\"longitude\": -118.2437}\n",
    "]\n",
    "#dummy function to simulate the flask render_template\n",
    "def render_template(html, data=None):\n",
    "    print( f\"html={html}, data={data}\")\n",
    "\n",
    "#@app.route(/select/city_id)\n",
    "def create_cities(city_id):\n",
    "    for item in city_data:\n",
    "        if item[\"id\"] == city_id:\n",
    "            selected = item\n",
    "\n",
    "    return render_template(\"city_creation.html\", selected=selected)\n",
    "\n",
    "url_num = int( input(\"number from url: \") )\n",
    "create_cities(url_num)"
   ]
  },
  {
   "cell_type": "code",
   "execution_count": null,
   "id": "f2eeff18",
   "metadata": {},
   "outputs": [],
   "source": [
    "#dict of dict apporach\n",
    "city_data = {\n",
    "     1: {\"name\": \"New York\", \"latitude\": 40.7128, \"longitude\": -74.0060}\n",
    "    ,2: {\"name\": \"Los Angeles\",\"latitude\": 34.0522,\"longitude\": -118.2437}\n",
    "}\n",
    "city_data[1]"
   ]
  },
  {
   "cell_type": "code",
   "execution_count": 79,
   "id": "e7ed282a",
   "metadata": {},
   "outputs": [
    {
     "name": "stdout",
     "output_type": "stream",
     "text": [
      "id 1\n",
      "name New York\n",
      "latitude 40.7128\n",
      "longitude -74.006\n"
     ]
    }
   ],
   "source": [
    "jinja_city = {\"id\":1, \"name\": \"New York\", \"latitude\": 40.7128, \"longitude\": -74.0060}\n",
    "\"\"\"\n",
    "{%for key, value in jinja_city.items()%}\n",
    "\"\"\"\n",
    "for key, value in jinja_city.items():\n",
    "    print(key, value)\n"
   ]
  },
  {
   "cell_type": "code",
   "execution_count": 80,
   "id": "c5c3b0a8",
   "metadata": {},
   "outputs": [
    {
     "name": "stdout",
     "output_type": "stream",
     "text": [
      "text\n",
      "new text\n"
     ]
    }
   ],
   "source": [
    "msg = \"text\"\n",
    "print(msg)\n",
    "msg = \"new text\"\n",
    "print(msg)\n",
    "#1) generate the value: 'text'\n",
    "#2) access 'msg' and get ready to write\n",
    "#3) write result of #1 into #2"
   ]
  },
  {
   "cell_type": "code",
   "execution_count": 82,
   "id": "b82122f4",
   "metadata": {},
   "outputs": [
    {
     "name": "stdout",
     "output_type": "stream",
     "text": [
      "Design UI\n",
      "Implement Backend\n",
      "Write Documentation\n",
      "Test Application\n"
     ]
    }
   ],
   "source": [
    "project_tasks = [\n",
    "    {\"id\": 1, \"name\": \"Design UI\", \"priority\": \"High\"},\n",
    "    {\"id\": 2, \"name\": \"Implement Backend\", \"priority\": \"High\"},\n",
    "    {\"id\": 3, \"name\": \"Write Documentation\", \"priority\": \"Medium\"},\n",
    "    {\"id\": 4, \"name\": \"Test Application\", \"priority\": \"Low\"},\n",
    "]\n",
    "def filter_by_name(task):\n",
    "    return task[\"name\"]\n",
    "\n",
    "filtered = map( filter_by_name, project_tasks)\n",
    "\n",
    "for item in filtered:\n",
    "    print( item )"
   ]
  },
  {
   "cell_type": "code",
   "execution_count": null,
   "id": "e04e9a53",
   "metadata": {},
   "outputs": [],
   "source": []
  },
  {
   "cell_type": "code",
   "execution_count": null,
   "id": "3a827842",
   "metadata": {},
   "outputs": [],
   "source": []
  },
  {
   "cell_type": "code",
   "execution_count": null,
   "id": "48c2fd40",
   "metadata": {},
   "outputs": [],
   "source": []
  },
  {
   "cell_type": "code",
   "execution_count": null,
   "id": "a3f6b88b",
   "metadata": {},
   "outputs": [],
   "source": []
  },
  {
   "cell_type": "code",
   "execution_count": null,
   "id": "96649755",
   "metadata": {},
   "outputs": [],
   "source": []
  },
  {
   "cell_type": "code",
   "execution_count": null,
   "id": "1f66811e",
   "metadata": {},
   "outputs": [],
   "source": []
  },
  {
   "cell_type": "code",
   "execution_count": 68,
   "id": "43a3f7ac",
   "metadata": {},
   "outputs": [
    {
     "data": {
      "text/plain": [
       "{'name': 'New York', 'latitude': 40.7128, 'longitude': -74.006}"
      ]
     },
     "execution_count": 68,
     "metadata": {},
     "output_type": "execute_result"
    }
   ],
   "source": [
    "city_data = {\n",
    "     1: {\"name\": \"New York\", \"latitude\": 40.7128, \"longitude\": -74.0060}\n",
    "    ,2: {\"name\": \"Los Angeles\",\"latitude\": 34.0522,\"longitude\": -118.2437}\n",
    "}\n",
    "city_data[1]\n",
    "\n",
    "\n",
    "\n"
   ]
  },
  {
   "cell_type": "code",
   "execution_count": 83,
   "id": "08eb3e2e",
   "metadata": {},
   "outputs": [
    {
     "name": "stdout",
     "output_type": "stream",
     "text": [
      "Task\n",
      "{'my': 'value'}\n"
     ]
    }
   ],
   "source": [
    "class Task(dict):\n",
    "    def __init__(self):\n",
    "        print(\"Task\")\n",
    "\n",
    "t1 = Task()\n",
    "t1[\"my\"]=\"value\"\n",
    "print(t1)"
   ]
  },
  {
   "cell_type": "code",
   "execution_count": null,
   "id": "50a4047b",
   "metadata": {},
   "outputs": [],
   "source": []
  },
  {
   "cell_type": "code",
   "execution_count": null,
   "id": "3b54f886",
   "metadata": {},
   "outputs": [],
   "source": []
  },
  {
   "cell_type": "code",
   "execution_count": null,
   "id": "9102d1d2",
   "metadata": {},
   "outputs": [],
   "source": []
  },
  {
   "cell_type": "code",
   "execution_count": null,
   "id": "0ab97a27",
   "metadata": {},
   "outputs": [],
   "source": []
  },
  {
   "cell_type": "code",
   "execution_count": null,
   "id": "4c247597",
   "metadata": {},
   "outputs": [],
   "source": []
  }
 ],
 "metadata": {
  "kernelspec": {
   "display_name": "Python 3 (ipykernel)",
   "language": "python",
   "name": "python3"
  },
  "language_info": {
   "codemirror_mode": {
    "name": "ipython",
    "version": 3
   },
   "file_extension": ".py",
   "mimetype": "text/x-python",
   "name": "python",
   "nbconvert_exporter": "python",
   "pygments_lexer": "ipython3",
   "version": "3.11.4"
  }
 },
 "nbformat": 4,
 "nbformat_minor": 5
}
